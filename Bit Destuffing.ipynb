{
  "nbformat": 4,
  "nbformat_minor": 0,
  "metadata": {
    "colab": {
      "provenance": [],
      "authorship_tag": "ABX9TyPualp5U15u2NkPoqLDkJhS",
      "include_colab_link": true
    },
    "kernelspec": {
      "name": "python3",
      "display_name": "Python 3"
    },
    "language_info": {
      "name": "python"
    }
  },
  "cells": [
    {
      "cell_type": "markdown",
      "metadata": {
        "id": "view-in-github",
        "colab_type": "text"
      },
      "source": [
        "<a href=\"https://colab.research.google.com/github/RiyaG20/Data-Communication-and-Networks/blob/main/Bit%20Destuffing.ipynb\" target=\"_parent\"><img src=\"https://colab.research.google.com/assets/colab-badge.svg\" alt=\"Open In Colab\"/></a>"
      ]
    },
    {
      "cell_type": "code",
      "execution_count": 2,
      "metadata": {
        "colab": {
          "base_uri": "https://localhost:8080/"
        },
        "id": "vRjy83gQTA-j",
        "outputId": "81ee6e6f-a72b-4479-f5da-6fa3cec79d6f"
      },
      "outputs": [
        {
          "output_type": "stream",
          "name": "stdout",
          "text": [
            "Destuffed data: 11111111011\n",
            "Riya\n",
            "500101787\n",
            "Batch 5 AIML\n"
          ]
        }
      ],
      "source": [
        "def bit_destuffing(stuffed_data):\n",
        "    destuffed_data = \"\"\n",
        "    consecutive_ones = 0\n",
        "    i = 0\n",
        "\n",
        "    while i < len(stuffed_data):\n",
        "        bit = stuffed_data[i]\n",
        "        destuffed_data += bit\n",
        "\n",
        "        if bit == '1':\n",
        "            consecutive_ones += 1\n",
        "        else:\n",
        "            consecutive_ones = 0\n",
        "\n",
        "        if consecutive_ones == 5:\n",
        "            i += 1\n",
        "            consecutive_ones = 0\n",
        "\n",
        "        i += 1\n",
        "\n",
        "    return destuffed_data\n",
        "\n",
        "# Example usage\n",
        "stuffed_data = \"111110111011\"  # Example stuffed data\n",
        "destuffed_data = bit_destuffing(stuffed_data)\n",
        "print(\"Destuffed data:\", destuffed_data)\n",
        "print(\"Riya\")\n",
        "print(\"500101787\")\n",
        "print(\"Batch 5 AIML\")"
      ]
    }
  ]
}