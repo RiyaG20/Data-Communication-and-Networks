{
  "nbformat": 4,
  "nbformat_minor": 0,
  "metadata": {
    "colab": {
      "provenance": [],
      "authorship_tag": "ABX9TyPYf0ATJYDanfA0dFvYOUyw",
      "include_colab_link": true
    },
    "kernelspec": {
      "name": "python3",
      "display_name": "Python 3"
    },
    "language_info": {
      "name": "python"
    }
  },
  "cells": [
    {
      "cell_type": "markdown",
      "metadata": {
        "id": "view-in-github",
        "colab_type": "text"
      },
      "source": [
        "<a href=\"https://colab.research.google.com/github/RiyaG20/Data-Communication-and-Networks/blob/main/Bit%20Stuffing.ipynb\" target=\"_parent\"><img src=\"https://colab.research.google.com/assets/colab-badge.svg\" alt=\"Open In Colab\"/></a>"
      ]
    },
    {
      "cell_type": "code",
      "execution_count": null,
      "metadata": {
        "colab": {
          "base_uri": "https://localhost:8080/"
        },
        "id": "wLsxIvWUPX8w",
        "outputId": "259166c7-a562-4143-e23c-a525cebaf832"
      },
      "outputs": [
        {
          "output_type": "stream",
          "name": "stdout",
          "text": [
            "Original data: 11111011111101111110\n",
            "Stuffed data:   11111001111101011111010\n",
            "Riya\n",
            "500101787\n",
            "Batch 5 (AIML)\n"
          ]
        }
      ],
      "source": [
        "def bit_stuffing(data):\n",
        "       stuffed_data = \" \"\n",
        "       consecutive_ones = 0\n",
        "       for bit in data:\n",
        "             stuffed_data += bit\n",
        "             if bit =='1' :\n",
        "                consecutive_ones += 1\n",
        "                if consecutive_ones == 5:\n",
        "                   stuffed_data += '0'\n",
        "                   consecutive_ones= 0\n",
        "             else:\n",
        "\n",
        "                 consecutive_ones =0\n",
        "\n",
        "       return stuffed_data\n",
        "# Example usage\n",
        "data = \"11111011111101111110\"\n",
        "stuffed_data = bit_stuffing(data)\n",
        "print(\"Original data:\", data)\n",
        "print(\"Stuffed data: \", stuffed_data)\n",
        "print(\"Riya\")\n",
        "print(\"500101787\")\n",
        "print(\"Batch 5 (AIML)\")\n"
      ]
    }
  ]
}